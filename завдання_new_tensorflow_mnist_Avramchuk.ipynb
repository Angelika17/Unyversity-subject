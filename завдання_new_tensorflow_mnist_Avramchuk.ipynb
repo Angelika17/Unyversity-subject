{
 "cells": [
  {
   "cell_type": "markdown",
   "metadata": {
    "id": "view-in-github"
   },
   "source": [
    "<a href=\"https://colab.research.google.com/github/maracasabat/Data-Science-HW9/blob/main/Hw_9_tensorflow_mnist.ipynb\" target=\"_parent\"><img src=\"https://colab.research.google.com/assets/colab-badge.svg\" alt=\"Open In Colab\"/></a>"
   ]
  },
  {
   "cell_type": "markdown",
   "metadata": {
    "id": "b0Yf4NBJUSNM"
   },
   "source": [
    "# Створення нейронної мережі\n",
    "\n",
    "У цьому завдання ми створимо повнозв'язкову нейронну мережу, використовуючи при цьому низькорівневі механізми tensorflow.\n",
    "\n",
    "Архітектутра нейромережі представлена ​​на наступному малюнку. Як бачите, в ній є один вхідний шар, два приховані, а так само вихідний шар. Як активаційну функцію в прихованих шарах буде використовуватися сигмоїда. На вихідному шарі ми використовуємо softmax.\n",
    "\n",
    "Частина коду створення мережі вже написана, від вас потрібно заповнити пропуски в зазначених місцях."
   ]
  },
  {
   "cell_type": "markdown",
   "metadata": {
    "id": "01rZWUu0USNQ"
   },
   "source": [
    "## Архітектура нейронної мережі\n",
    "\n",
    "<img src=\"http://cs231n.github.io/assets/nn1/neural_net2.jpeg\" alt=\"nn\" style=\"width: 400px;\"/>\n"
   ]
  },
  {
   "cell_type": "markdown",
   "metadata": {
    "id": "LLvIZ705Qw_V"
   },
   "source": [
    "## Про датасет MNIST\n",
    "\n",
    "Дану нейромережу ми навчатимемо на датасеті MNIST. Цей датасет є великою кількістю зображень рукописних цифр розміром $28 \\times 28$ пікселів. Кожен піксель набуває значення від 0 до 255.\n",
    "\n",
    "Як і раніше датасет буде розділений на навчальну та тестову вибірки. При цьому ми виконаємо нормалізацію всіх зображень, щоб значення пікселів знаходилися у проміжку від 0 до 1, розділивши яскравість кожного пікселя на 255.\n",
    "\n",
    "Крім того, архітектура нейронної мережі очікує на вхід вектор. У нашому випадку кожен об'єкт вибірки є матрицею. Що ж робити? У цьому завдання ми \"розтягнемо\" матрицю $28 \\times 28$, отримавши при цьому вектор, що складається з 784 елементів.\n",
    "\n",
    "![MNIST Dataset](https://www.researchgate.net/profile/Steven-Young-5/publication/306056875/figure/fig1/AS:393921575309346@1470929630835/Example-images-from-the-MNIST-dataset.png)"
   ]
  },
  {
   "cell_type": "code",
   "execution_count": 2,
   "metadata": {
    "id": "il_0_5OyUSNR"
   },
   "outputs": [],
   "source": [
    "import tensorflow as tf\n",
    "import numpy as np\n",
    "import matplotlib.pyplot as plt"
   ]
  },
  {
   "cell_type": "code",
   "execution_count": 3,
   "metadata": {
    "id": "cd-1_abTUSNS"
   },
   "outputs": [],
   "source": [
    "num_classes = 10 # загальна кількість класів, у нашому випадку це цифри від 0 до 9\n",
    "num_features = 784 # кількість атрибутів вхідного вектора 28*28 = 784\n",
    "\n",
    "learning_rate = 0.001 # швидкість навчання нейронної мережі\n",
    "training_steps = 3000 # максимальна кількість епох\n",
    "batch_size = 256 # перераховувати ваги мережі ми будемо не на всій вибірці, а на її випадковому підтримці з batch_size елементів\n",
    "display_step = 100 # кожні 100 ітерацій ми будемо показувати поточне значення функції втрат та точності\n",
    "\n",
    "n_hidden_1 = 128 # кількість нейронів 1-го шару\n",
    "n_hidden_2 = 256 # кількість нейронів 2-го шару"
   ]
  },
  {
   "cell_type": "code",
   "execution_count": 4,
   "metadata": {
    "colab": {
     "base_uri": "https://localhost:8080/"
    },
    "id": "pGTXiRyTUSNT",
    "outputId": "07f2b4c3-1bbd-4361-fcc6-99583ec3230a"
   },
   "outputs": [
    {
     "name": "stdout",
     "output_type": "stream",
     "text": [
      "Downloading data from https://storage.googleapis.com/tensorflow/tf-keras-datasets/mnist.npz\n",
      "11490434/11490434 [==============================] - 10s 1us/step\n"
     ]
    }
   ],
   "source": [
    "from tensorflow.keras.datasets import mnist\n",
    "\n",
    "# Завантажуємо датасет\n",
    "(x_train, y_train), (x_test, y_test) = mnist.load_data()\n",
    "\n",
    "# Перетворимо цілочисленні пікселі до типу float32\n",
    "x_train, x_test = np.array(x_train, np.float32), np.array(x_test, np.float32)\n",
    "\n",
    "# Перетворимо цілочисленні пікселі до типу float32\n",
    "x_train, x_test = x_train.reshape([-1, num_features]), x_test.reshape([-1, num_features])\n",
    "\n",
    "# Нормалізуємо значення пікселів\n",
    "x_train, x_test = x_train / 255., x_test / 255.\n",
    "\n",
    "# Перемішаємо тренувальні дані\n",
    "train_data = tf.data.Dataset.from_tensor_slices((x_train, y_train))\n",
    "train_data = train_data.repeat().shuffle(5000).batch(batch_size).prefetch(1)"
   ]
  },
  {
   "cell_type": "code",
   "execution_count": 37,
   "metadata": {
    "id": "FkRmCQjnUSNV"
   },
   "outputs": [],
   "source": [
    "# Створимо нейронну мережу\n",
    "\n",
    "class DenseLayer(tf.Module):\n",
    "    def __init__(self, in_features, out_features, name=None):\n",
    "        super().__init__(name=name)\n",
    "        self.w = tf.Variable(\n",
    "            tf.random.normal([in_features, out_features]), name=\"w\"\n",
    "        )\n",
    "        self.b = tf.Variable(tf.zeros([out_features]), name=\"b\")\n",
    "\n",
    "    def __call__(self, x, activation=0):\n",
    "        y = tf.matmul(x, self.w) + self.b\n",
    "        if activation != 0:\n",
    "            return tf.nn.softmax(y)\n",
    "        else:\n",
    "            return tf.nn.sigmoid(y)\n",
    "\n",
    "\n",
    "class NN(tf.Module):\n",
    "  def __init__(self, name=None):\n",
    "    super().__init__(name=name)\n",
    "    # Перший шар, що складається із 128 нейронів.\n",
    "    self.layer_1 = DenseLayer(num_features, n_hidden_1, name=\"layer_1\")\n",
    "\n",
    " #Місце вашого коду\n",
    "\n",
    "    # Другий шар, що складається з 256 нейронів\n",
    "    self.layer_2 =   DenseLayer(n_hidden_1, n_hidden_2, name=\"layer_2\") #Місце вашого коду\n",
    "\n",
    "    # Вихідний шар\n",
    "    self.layer_3 = DenseLayer(n_hidden_2, num_classes, name=\"layer_3\")#Місце вашого коду\n",
    "\n",
    "  def __call__(self, x):\n",
    "    # Місце для вашого коду\n",
    "    x1 = self.layer_1(x, activation=1) #Місце вашого коду\n",
    "    x2 = self.layer_2(x1, activation=1)#Місце вашого коду\n",
    "    x3 =self.layer_3(x2, activation=1) #Місце вашого коду\n",
    "\n",
    "    # Пам'ятайте, що для виходу нейронної мережі ми застосовуємо до виходу функцію softmax.\n",
    "    # Робимо ми це для того, щоб\n",
    "    # вихід нейронної мережі приймав значення від 0 до 1 відповідно до ймовірності\n",
    "    # Приналежності вхідного об'єкта до одного з 10 класів\n",
    "\n",
    "    return tf.nn.softmax(x3)"
   ]
  },
  {
   "cell_type": "code",
   "execution_count": 38,
   "metadata": {
    "id": "LIf3o7VAUSNV"
   },
   "outputs": [],
   "source": [
    "# Як функцію помилки в даному випадку зручно взяти крос-ентропію\n",
    "def cross_entropy(y_pred, y_true):\n",
    "    # Encode label to a one hot vector.\n",
    "    y_true = tf.one_hot(y_true, depth=num_classes)\n",
    "\n",
    "    # Clip prediction values to avoid log(0) error.\n",
    "    y_pred = tf.clip_by_value(y_pred, 1e-9, 1.)\n",
    "\n",
    "    # Обчислення крос-ентропії\n",
    "    return tf.reduce_mean(-tf.reduce_sum(y_true * tf.math.log(y_pred)))\n",
    "\n",
    "# Як метрику якості використовуємо точність\n",
    "def accuracy(y_pred, y_true):\n",
    "    # Місце для вашого коду\n",
    "    preds = tf.argmax(y_pred, axis=1)\n",
    "\n",
    "    acc =tf.keras.metrics.Accuracy() #Місце вашого коду\n",
    "    acc.update_state(y_true, preds)\n",
    "    return acc.result()"
   ]
  },
  {
   "cell_type": "code",
   "execution_count": 39,
   "metadata": {
    "id": "MQeT1yatUSNW"
   },
   "outputs": [],
   "source": [
    "# Створимо екземпляр нейронної мережі\n",
    "neural_net = NN(name=\"mnist\")\n",
    "\n",
    "# Функція навчання нейромережі\n",
    "def train(nn, input_x, output_y):\n",
    "  # Для припасування ваг мережі будемо використовувати стохастичний градієнтний спуск\n",
    "  optimizer = tf.optimizers.SGD(learning_rate)\n",
    "\n",
    "  # Активація автоматичного диференціювання\n",
    "  with tf.GradientTape() as g:\n",
    "    pred = neural_net(input_x)\n",
    "    loss = cross_entropy(pred, output_y)\n",
    "        \n",
    "    # Створимо список параметрів, що оптимізуються.\n",
    "    trainable_variables = neural_net.trainable_variables #Місце вашого коду\n",
    "    # Обчислимо за ними значення градієнта\n",
    "    gradients =  g.gradient(loss, trainable_variables)#Місце вашого коду\n",
    "    \n",
    "    # Модифікуємо параметри\n",
    "    #Місце вашого коду\n",
    "    optimizer.apply_gradients(zip(gradients, trainable_variables))\n",
    "    "
   ]
  },
  {
   "cell_type": "code",
   "execution_count": 40,
   "metadata": {
    "colab": {
     "base_uri": "https://localhost:8080/"
    },
    "id": "fnyns9lBfpQZ",
    "outputId": "57d846b8-31ec-48e4-ddcd-d7842f3d5ede"
   },
   "outputs": [
    {
     "name": "stdout",
     "output_type": "stream",
     "text": [
      "Step 0, loss=589.7755, accuracy=0.1172\n",
      "Step 100, loss=589.3005, accuracy=0.1406\n",
      "Step 200, loss=589.4169, accuracy=0.1406\n",
      "Step 300, loss=589.1656, accuracy=0.1445\n",
      "Step 400, loss=589.6698, accuracy=0.1094\n",
      "Step 500, loss=589.6149, accuracy=0.1016\n",
      "Step 600, loss=589.7018, accuracy=0.0898\n",
      "Step 700, loss=589.1818, accuracy=0.1406\n",
      "Step 800, loss=589.4740, accuracy=0.0820\n",
      "Step 900, loss=589.1922, accuracy=0.1289\n",
      "Step 1000, loss=589.0990, accuracy=0.1172\n",
      "Step 1100, loss=589.3763, accuracy=0.1016\n",
      "Step 1200, loss=588.7018, accuracy=0.1523\n",
      "Step 1300, loss=588.8359, accuracy=0.1328\n",
      "Step 1400, loss=589.4097, accuracy=0.1055\n",
      "Step 1500, loss=589.4666, accuracy=0.1094\n",
      "Step 1600, loss=588.7954, accuracy=0.1250\n",
      "Step 1700, loss=588.5021, accuracy=0.1484\n",
      "Step 1800, loss=588.7887, accuracy=0.1211\n",
      "Step 1900, loss=589.6688, accuracy=0.0820\n",
      "Step 2000, loss=589.5629, accuracy=0.0977\n",
      "Step 2100, loss=588.9154, accuracy=0.1211\n",
      "Step 2200, loss=588.7567, accuracy=0.1289\n",
      "Step 2300, loss=589.4463, accuracy=0.1016\n",
      "Step 2400, loss=588.8828, accuracy=0.1211\n",
      "Step 2500, loss=588.4942, accuracy=0.1250\n",
      "Step 2600, loss=588.2230, accuracy=0.1328\n",
      "Step 2700, loss=588.7908, accuracy=0.1211\n",
      "Step 2800, loss=590.1772, accuracy=0.0859\n",
      "Step 2900, loss=588.5364, accuracy=0.1172\n"
     ]
    }
   ],
   "source": [
    "# Тренування мережі\n",
    "\n",
    "loss_history = []  # кожні display_step кроків зберігайте в цьому списку поточну помилку нейромережі\n",
    "accuracy_history = [] # кожні display_step кроків зберігайте в цьому списку поточну точність нейромережі\n",
    "\n",
    "# У цьому циклі ми будемо проводити навчання нейронної мережі\n",
    "# з тренувального датасету train_data вийміть випадкову підмножину, на якій\n",
    "# відбудеться тренування. Використовуйте метод take, доступний для тренувального датасету.\n",
    "for step, (batch_x, batch_y) in enumerate(train_data.take(training_steps)):\n",
    "    # Оновлюємо ваги нейронної мережі\n",
    "    # Місце вашого коду\n",
    "    loss = train(neural_net, batch_x, batch_y)\n",
    "    \n",
    "    if step % display_step == 0:\n",
    "        pred = neural_net(batch_x)\n",
    "        #Місце вашого коду\n",
    "        pred = neural_net(batch_x)\n",
    "        loss = cross_entropy(pred, batch_y)\n",
    "        acc = accuracy(pred, batch_y)\n",
    "        loss_history.append(loss)\n",
    "        accuracy_history.append(acc)\n",
    "        print(\"Step {}, loss={:.4f}, accuracy={:.4f}\".format(step, loss, acc))"
   ]
  },
  {
   "cell_type": "code",
   "execution_count": 41,
   "metadata": {
    "colab": {
     "base_uri": "https://localhost:8080/",
     "height": 612
    },
    "id": "_yCBfG6MbQB2",
    "outputId": "611f69c1-7724-48ba-f386-beef79ca3082"
   },
   "outputs": [
    {
     "data": {
      "image/png": "[encoded data removed]",
      "text/plain": [
       "<Figure size 432x288 with 1 Axes>"
      ]
     },
     "metadata": {
      "needs_background": "light"
     },
     "output_type": "display_data"
    }
   ],
   "source": [
    "# Виведіть графіки залежності зміни точності та втрат від кроку\n",
    "# Якщо все зроблено правильно, то точність має зростати, а втрати зменшуватися\n",
    "\n",
    "plt.plot(loss_history, 'r', label='loss', linestyle=\":\")\n",
    "plt.legend()\n",
    "\n",
    "plt.title(\"Залежності зміни точності та втрат від кроку\", fontsize=20, color='b')\n",
    "plt.show()"
   ]
  },
  {
   "cell_type": "code",
   "execution_count": 42,
   "metadata": {
    "id": "LE3g4gDyUSNY"
   },
   "outputs": [
    {
     "name": "stdout",
     "output_type": "stream",
     "text": [
      "Accuracy: 0.11236666887998581\n"
     ]
    }
   ],
   "source": [
    "# Обчисліть точність навченої нейромережі\n",
    "neural_net_accuracy = accuracy(neural_net(x_train), y_train)\n",
    "print(f\"Accuracy: {neural_net_accuracy}\")\n"
   ]
  },
  {
   "cell_type": "code",
   "execution_count": 50,
   "metadata": {
    "id": "_EEHAubOUSNY"
   },
   "outputs": [
    {
     "name": "stdout",
     "output_type": "stream",
     "text": [
      "True: 3 Predict: 1 False\n",
      "True: 1 Predict: 1 True\n",
      "True: 8 Predict: 1 False\n",
      "True: 2 Predict: 1 False\n",
      "True: 1 Predict: 1 True\n",
      "True: 4 Predict: 1 False\n",
      "True: 1 Predict: 1 True\n",
      "True: 6 Predict: 1 False\n",
      "True: 9 Predict: 1 False\n",
      "True: 7 Predict: 1 False\n"
     ]
    },
    {
     "data": {
      "image/png": "[encoded data removed]",
      "text/plain": [
       "<Figure size 1152x432 with 10 Axes>"
      ]
     },
     "metadata": {
      "needs_background": "light"
     },
     "output_type": "display_data"
    }
   ],
   "source": [
    "# Протестуємо навчену нейромережу на 10 зображеннях. З тестової вибірки візьміть 5\n",
    "# випадкових зображень і передайте їх у нейронну мережу.\n",
    "# Виведіть зображення та випишіть поруч відповідь нейромережі.\n",
    "# Зробіть висновок про те, чи помиляється ваша нейронна мережа і якщо так, то як часто?\n",
    "test_img = np.random.permutation(x_test.shape[0])[:10]\n",
    "y_test_true = y_test[test_img]\n",
    "pred_data = [np.argmax(x) for x in neural_net(x_test[test_img])]\n",
    "\n",
    "plt.figure(figsize=(16, 6))\n",
    "for i in range(10):\n",
    "    print(f\"True: {y_test_true[i]} Predict: {pred_data[i]} {True if y_test_true[i] - pred_data[i] == 0 else False}\")\n",
    "    plt.subplot(1, 10, (i + 1))\n",
    "    plt.imshow(x_test[test_img[i]].reshape(28, 28), cmap='gray')\n",
    "    plt.text(x=10, y=-10, s=pred_data[i], fontsize=18)\n",
    "    \n",
    "plt.tight_layout()\n",
    "plt.show()\n"
   ]
  },
  {
   "cell_type": "code",
   "execution_count": null,
   "metadata": {},
   "outputs": [],
   "source": [
    "# Висновок моя мережа не показує похибок, але є прблема в тому, що вона не знахоть значення самої цифри, у неї є одна\n",
    "# зазначенна цифра- це 1 та цю цифру вона і шукає, якщо на картинці 1 - вона пише True,якщо ні, то False"
   ]
  }
 ],
 "metadata": {
  "accelerator": "GPU",
  "colab": {
   "provenance": []
  },
  "gpuClass": "standard",
  "kernelspec": {
   "display_name": "Python 3",
   "language": "python",
   "name": "python3"
  },
  "language_info": {
   "codemirror_mode": {
    "name": "ipython",
    "version": 3
   },
   "file_extension": ".py",
   "mimetype": "text/x-python",
   "name": "python",
   "nbconvert_exporter": "python",
   "pygments_lexer": "ipython3",
   "version": "3.8.8"
  }
 },
 "nbformat": 4,
 "nbformat_minor": 1
}
